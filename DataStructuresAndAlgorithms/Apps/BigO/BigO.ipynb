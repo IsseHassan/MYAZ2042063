{
 "cells": [
  {
   "attachments": {},
   "cell_type": "markdown",
   "metadata": {},
   "source": [
    "$$\n",
    "f(x) = x^2 + 2x + 1 \\quad -> \\quad O(x^2)\n",
    "$$\n",
    "\n",
    "$$\n",
    "f2(x) = x^2  \\quad -> \\quad O(x^2)\n",
    "$$\n",
    "\n",
    "$$\n",
    "f3(x) = x^3  \\quad -> \\quad O(x^3)\n",
    "$$\n",
    "\n",
    "$$\n",
    "f4(x) = x^2 + 2x^2 + x^2 = Cg(n)  = 4x^2 \\quad -> \\quad O(x^2)\n",
    "$$"
   ]
  },
  {
   "cell_type": "code",
   "execution_count": 1,
   "metadata": {},
   "outputs": [
    {
     "ename": "ModuleNotFoundError",
     "evalue": "No module named 'numpy'",
     "output_type": "error",
     "traceback": [
      "\u001b[1;31m---------------------------------------------------------------------------\u001b[0m",
      "\u001b[1;31mModuleNotFoundError\u001b[0m                       Traceback (most recent call last)",
      "Cell \u001b[1;32mIn[1], line 1\u001b[0m\n\u001b[1;32m----> 1\u001b[0m \u001b[39mimport\u001b[39;00m \u001b[39mnumpy\u001b[39;00m \u001b[39mas\u001b[39;00m \u001b[39mnp\u001b[39;00m\n\u001b[0;32m      2\u001b[0m \u001b[39mimport\u001b[39;00m \u001b[39mpandas\u001b[39;00m \u001b[39mas\u001b[39;00m \u001b[39mpd\u001b[39;00m\n\u001b[0;32m      3\u001b[0m \u001b[39mimport\u001b[39;00m \u001b[39mmatplotlib\u001b[39;00m\u001b[39m.\u001b[39;00m\u001b[39mpyplot\u001b[39;00m \u001b[39mas\u001b[39;00m \u001b[39mplt\u001b[39;00m\n",
      "\u001b[1;31mModuleNotFoundError\u001b[0m: No module named 'numpy'"
     ]
    }
   ],
   "source": [
    "import numpy as np\n",
    "import pandas as pd\n",
    "import matplotlib.pyplot as plt"
   ]
  },
  {
   "cell_type": "code",
   "execution_count": 9,
   "metadata": {},
   "outputs": [],
   "source": [
    "def f(n):\n",
    "    x = np.array(range(1,n+1)) # 1 2 3 ... n\n",
    "    y = list([])\n",
    "    for i in x:\n",
    "        y.append(i**2 + 2*i + 1)\n",
    "    return (x, np.array(y))"
   ]
  },
  {
   "cell_type": "code",
   "execution_count": null,
   "metadata": {},
   "outputs": [],
   "source": [
    "def f2(n):\n",
    "    x = np.array(range(1, n+1))  # 1 2 3 ... n\n",
    "    y = list([])\n",
    "    for i in x:\n",
    "        y.append(i**2)\n",
    "    return (x, np.array(y))\n"
   ]
  },
  {
   "cell_type": "code",
   "execution_count": null,
   "metadata": {},
   "outputs": [],
   "source": [
    "def f3(n):\n",
    "    x = np.array(range(1, n+1))  # 1 2 3 ... n\n",
    "    y = list([])\n",
    "    for i in x:\n",
    "        y.append(i**3)\n",
    "    return (x, np.array(y))\n"
   ]
  },
  {
   "cell_type": "code",
   "execution_count": null,
   "metadata": {},
   "outputs": [],
   "source": [
    "def f4(n):\n",
    "    x = np.array(range(1, n+1))  # 1 2 3 ... n\n",
    "    y = list([])\n",
    "    for i in x:\n",
    "        y.append(4 *(i**2))\n",
    "    return (x, np.array(y))\n"
   ]
  },
  {
   "cell_type": "code",
   "execution_count": 3,
   "metadata": {},
   "outputs": [
    {
     "ename": "NameError",
     "evalue": "name 'f' is not defined",
     "output_type": "error",
     "traceback": [
      "\u001b[1;31m---------------------------------------------------------------------------\u001b[0m",
      "\u001b[1;31mNameError\u001b[0m                                 Traceback (most recent call last)",
      "Cell \u001b[1;32mIn[3], line 2\u001b[0m\n\u001b[0;32m      1\u001b[0m n \u001b[39m=\u001b[39m \u001b[39m10\u001b[39m\n\u001b[1;32m----> 2\u001b[0m (x,y) \u001b[39m=\u001b[39m f(n)\n\u001b[0;32m      3\u001b[0m (x2,y2) \u001b[39m=\u001b[39m f2(n)\n\u001b[0;32m      4\u001b[0m (x3,y3) \u001b[39m=\u001b[39m f3(n)\n",
      "\u001b[1;31mNameError\u001b[0m: name 'f' is not defined"
     ]
    }
   ],
   "source": [
    "n = 10\n",
    "(x,y) = f(n)\n",
    "(x2,y2) = f2(n)\n",
    "(x3,y3) = f3(n)\n",
    "(x4,y4) = f4(n)"
   ]
  },
  {
   "cell_type": "code",
   "execution_count": null,
   "metadata": {},
   "outputs": [],
   "source": [
    "print(x4)\n",
    "print(y4)"
   ]
  },
  {
   "cell_type": "code",
   "execution_count": null,
   "metadata": {},
   "outputs": [],
   "source": [
    "plt.plot(x,y,color= \"blue\", marker = 'o', linestyle=\"dashed\", label = \"x2 + x + 1\")\n",
    "plt.plot(x2,y2,color= \"red\", marker = '^', linestyle=\"dashed\", label = \"x^2\")\n",
    "plt.plot(x3,y3,color= \"black\", marker = 'x', linestyle=\"dashed\", label = \"x^3\")\n",
    "plt.plot(x4,y4,color= \"yellow\", marker = 'v', linestyle=\"dashed\", label = \"4x^2\")\n",
    "plt.xlabel('x')\n",
    "plt.ylabel('y')\n",
    "plt.legend()\n",
    "\n",
    "for i in range(3,len(x),3):\n",
    "    plt.text(x[i],y4[i], f'{y4[i]}')\n",
    "\n",
    "for i in range(3,len(x),3):\n",
    "    plt.text(x[i],y3[i], f'{y3[i]}')"
   ]
  },
  {
   "cell_type": "code",
   "execution_count": null,
   "metadata": {},
   "outputs": [],
   "source": []
  }
 ],
 "metadata": {
  "kernelspec": {
   "display_name": "Python 3",
   "language": "python",
   "name": "python3"
  },
  "language_info": {
   "codemirror_mode": {
    "name": "ipython",
    "version": 3
   },
   "file_extension": ".py",
   "mimetype": "text/x-python",
   "name": "python",
   "nbconvert_exporter": "python",
   "pygments_lexer": "ipython3",
   "version": "3.11.3"
  },
  "orig_nbformat": 4
 },
 "nbformat": 4,
 "nbformat_minor": 2
}
